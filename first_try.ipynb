{
  "cells": [
    {
      "cell_type": "markdown",
      "metadata": {
        "id": "view-in-github",
        "colab_type": "text"
      },
      "source": [
        "<a href=\"https://colab.research.google.com/github/Katiaaaa/FakeNewsDetection_BERT/blob/main/first_try.ipynb\" target=\"_parent\"><img src=\"https://colab.research.google.com/assets/colab-badge.svg\" alt=\"Open In Colab\"/></a>"
      ]
    },
    {
      "cell_type": "code",
      "execution_count": null,
      "metadata": {
        "id": "_sq-BZGwPqbr"
      },
      "outputs": [],
      "source": [
        "import numpy as np\n",
        "import pandas as pd\n",
        "import matplotlib.pyplot as plt\n",
        "import seaborn as sns\n",
        "\n",
        "import itertools\n",
        "from sklearn.model_selection import train_test_split\n",
        "from sklearn.feature_extraction.text import TfidfVectorizer\n",
        "from sklearn.linear_model import PassiveAggressiveClassifier\n",
        "from sklearn.metrics import accuracy_score, confusion_matrix\n"
      ]
    },
    {
      "cell_type": "code",
      "execution_count": null,
      "metadata": {
        "id": "bwfSGY6M01Am",
        "colab": {
          "base_uri": "https://localhost:8080/"
        },
        "outputId": "fd476a9a-828b-4707-8446-7fef1e19745a"
      },
      "outputs": [
        {
          "output_type": "stream",
          "name": "stdout",
          "text": [
            "\u001b[K     |████████████████████████████████| 5.8 MB 5.1 MB/s \n",
            "\u001b[K     |████████████████████████████████| 588.3 MB 14 kB/s \n",
            "\u001b[K     |████████████████████████████████| 6.0 MB 44.3 MB/s \n",
            "\u001b[K     |████████████████████████████████| 1.7 MB 43.0 MB/s \n",
            "\u001b[K     |████████████████████████████████| 439 kB 53.8 MB/s \n",
            "\u001b[?25h"
          ]
        }
      ],
      "source": [
        "!pip install -q tensorflow-text"
      ]
    },
    {
      "cell_type": "code",
      "execution_count": null,
      "metadata": {
        "id": "EQjrNv7ez3TY"
      },
      "outputs": [],
      "source": [
        "import tensorflow as tf\n",
        "import tensorflow_hub as hub\n",
        "import tensorflow_text as text"
      ]
    },
    {
      "cell_type": "code",
      "execution_count": null,
      "metadata": {
        "colab": {
          "base_uri": "https://localhost:8080/"
        },
        "id": "Hs3WozVlSOrG",
        "outputId": "5ce5681c-c4a3-42aa-e4c2-e39e118c7ed7"
      },
      "outputs": [
        {
          "output_type": "stream",
          "name": "stdout",
          "text": [
            "Mounted at /content/drive\n"
          ]
        }
      ],
      "source": [
        "from google.colab import drive\n",
        "drive.mount('/content/drive')"
      ]
    },
    {
      "cell_type": "code",
      "execution_count": null,
      "metadata": {
        "id": "i9cQ6rgTPqbs"
      },
      "outputs": [],
      "source": [
        "df_true=pd.read_csv('/content/drive/MyDrive/ColabNotebooks/news/True.csv')\n",
        "df_fake=pd.read_csv('/content/drive/MyDrive/ColabNotebooks/news/Fake.csv')\n",
        "df_true[\"label\"] = \"real\"\n",
        "df_fake[\"label\"] = \"fake\""
      ]
    },
    {
      "cell_type": "code",
      "execution_count": null,
      "metadata": {
        "colab": {
          "base_uri": "https://localhost:8080/",
          "height": 693
        },
        "id": "H_vzdqpaPqbt",
        "outputId": "03369a8e-d3cb-4875-d7e6-1d642d465a60"
      },
      "outputs": [
        {
          "output_type": "execute_result",
          "data": {
            "text/plain": [
              "                                                   title  \\\n",
              "0      As U.S. budget fight looms, Republicans flip t...   \n",
              "1      U.S. military to accept transgender recruits o...   \n",
              "2      Senior U.S. Republican senator: 'Let Mr. Muell...   \n",
              "3      FBI Russia probe helped by Australian diplomat...   \n",
              "4      Trump wants Postal Service to charge 'much mor...   \n",
              "...                                                  ...   \n",
              "23445  COORDINATED? Yet Another Hack Reporter Claims ...   \n",
              "23446  BARBRA STREISAND Gives Up On Dream Of Impeachi...   \n",
              "23447  WATCH: SENATOR LINDSEY GRAHAM DROPS BOMBSHELL…...   \n",
              "23448  BARBRA STREISAND Gives Up On Dream Of Impeachi...   \n",
              "23449  WATCH: SENATOR LINDSEY GRAHAM DROPS BOMBSHELL…...   \n",
              "\n",
              "                                                    text       subject  \\\n",
              "0      WASHINGTON (Reuters) - The head of a conservat...  politicsNews   \n",
              "1      WASHINGTON (Reuters) - Transgender people will...  politicsNews   \n",
              "2      WASHINGTON (Reuters) - The special counsel inv...  politicsNews   \n",
              "3      WASHINGTON (Reuters) - Trump campaign adviser ...  politicsNews   \n",
              "4      SEATTLE/WASHINGTON (Reuters) - President Donal...  politicsNews   \n",
              "...                                                  ...           ...   \n",
              "23445  A coordinated effort to spew anti-Trump propag...      politics   \n",
              "23446  Barbra Streisand was an Obama sycophant and on...      politics   \n",
              "23447  Everyone suspected the sketchy Steele Dossier ...      politics   \n",
              "23448  Barbra Streisand was an Obama sycophant and on...     left-news   \n",
              "23449  Everyone suspected the sketchy Steele Dossier ...     left-news   \n",
              "\n",
              "              date label  \n",
              "0      12/31/2017   real  \n",
              "1      12/29/2017   real  \n",
              "2      12/31/2017   real  \n",
              "3      12/30/2017   real  \n",
              "4      12/29/2017   real  \n",
              "...            ...   ...  \n",
              "23445   12/31/2017  fake  \n",
              "23446   12/31/2017  fake  \n",
              "23447   12/31/2017  fake  \n",
              "23448   12/31/2017  fake  \n",
              "23449   12/31/2017  fake  \n",
              "\n",
              "[44867 rows x 5 columns]"
            ],
            "text/html": [
              "\n",
              "  <div id=\"df-d20607dd-39b9-4a1d-8418-371d00febeb9\">\n",
              "    <div class=\"colab-df-container\">\n",
              "      <div>\n",
              "<style scoped>\n",
              "    .dataframe tbody tr th:only-of-type {\n",
              "        vertical-align: middle;\n",
              "    }\n",
              "\n",
              "    .dataframe tbody tr th {\n",
              "        vertical-align: top;\n",
              "    }\n",
              "\n",
              "    .dataframe thead th {\n",
              "        text-align: right;\n",
              "    }\n",
              "</style>\n",
              "<table border=\"1\" class=\"dataframe\">\n",
              "  <thead>\n",
              "    <tr style=\"text-align: right;\">\n",
              "      <th></th>\n",
              "      <th>title</th>\n",
              "      <th>text</th>\n",
              "      <th>subject</th>\n",
              "      <th>date</th>\n",
              "      <th>label</th>\n",
              "    </tr>\n",
              "  </thead>\n",
              "  <tbody>\n",
              "    <tr>\n",
              "      <th>0</th>\n",
              "      <td>As U.S. budget fight looms, Republicans flip t...</td>\n",
              "      <td>WASHINGTON (Reuters) - The head of a conservat...</td>\n",
              "      <td>politicsNews</td>\n",
              "      <td>12/31/2017</td>\n",
              "      <td>real</td>\n",
              "    </tr>\n",
              "    <tr>\n",
              "      <th>1</th>\n",
              "      <td>U.S. military to accept transgender recruits o...</td>\n",
              "      <td>WASHINGTON (Reuters) - Transgender people will...</td>\n",
              "      <td>politicsNews</td>\n",
              "      <td>12/29/2017</td>\n",
              "      <td>real</td>\n",
              "    </tr>\n",
              "    <tr>\n",
              "      <th>2</th>\n",
              "      <td>Senior U.S. Republican senator: 'Let Mr. Muell...</td>\n",
              "      <td>WASHINGTON (Reuters) - The special counsel inv...</td>\n",
              "      <td>politicsNews</td>\n",
              "      <td>12/31/2017</td>\n",
              "      <td>real</td>\n",
              "    </tr>\n",
              "    <tr>\n",
              "      <th>3</th>\n",
              "      <td>FBI Russia probe helped by Australian diplomat...</td>\n",
              "      <td>WASHINGTON (Reuters) - Trump campaign adviser ...</td>\n",
              "      <td>politicsNews</td>\n",
              "      <td>12/30/2017</td>\n",
              "      <td>real</td>\n",
              "    </tr>\n",
              "    <tr>\n",
              "      <th>4</th>\n",
              "      <td>Trump wants Postal Service to charge 'much mor...</td>\n",
              "      <td>SEATTLE/WASHINGTON (Reuters) - President Donal...</td>\n",
              "      <td>politicsNews</td>\n",
              "      <td>12/29/2017</td>\n",
              "      <td>real</td>\n",
              "    </tr>\n",
              "    <tr>\n",
              "      <th>...</th>\n",
              "      <td>...</td>\n",
              "      <td>...</td>\n",
              "      <td>...</td>\n",
              "      <td>...</td>\n",
              "      <td>...</td>\n",
              "    </tr>\n",
              "    <tr>\n",
              "      <th>23445</th>\n",
              "      <td>COORDINATED? Yet Another Hack Reporter Claims ...</td>\n",
              "      <td>A coordinated effort to spew anti-Trump propag...</td>\n",
              "      <td>politics</td>\n",
              "      <td>12/31/2017</td>\n",
              "      <td>fake</td>\n",
              "    </tr>\n",
              "    <tr>\n",
              "      <th>23446</th>\n",
              "      <td>BARBRA STREISAND Gives Up On Dream Of Impeachi...</td>\n",
              "      <td>Barbra Streisand was an Obama sycophant and on...</td>\n",
              "      <td>politics</td>\n",
              "      <td>12/31/2017</td>\n",
              "      <td>fake</td>\n",
              "    </tr>\n",
              "    <tr>\n",
              "      <th>23447</th>\n",
              "      <td>WATCH: SENATOR LINDSEY GRAHAM DROPS BOMBSHELL…...</td>\n",
              "      <td>Everyone suspected the sketchy Steele Dossier ...</td>\n",
              "      <td>politics</td>\n",
              "      <td>12/31/2017</td>\n",
              "      <td>fake</td>\n",
              "    </tr>\n",
              "    <tr>\n",
              "      <th>23448</th>\n",
              "      <td>BARBRA STREISAND Gives Up On Dream Of Impeachi...</td>\n",
              "      <td>Barbra Streisand was an Obama sycophant and on...</td>\n",
              "      <td>left-news</td>\n",
              "      <td>12/31/2017</td>\n",
              "      <td>fake</td>\n",
              "    </tr>\n",
              "    <tr>\n",
              "      <th>23449</th>\n",
              "      <td>WATCH: SENATOR LINDSEY GRAHAM DROPS BOMBSHELL…...</td>\n",
              "      <td>Everyone suspected the sketchy Steele Dossier ...</td>\n",
              "      <td>left-news</td>\n",
              "      <td>12/31/2017</td>\n",
              "      <td>fake</td>\n",
              "    </tr>\n",
              "  </tbody>\n",
              "</table>\n",
              "<p>44867 rows × 5 columns</p>\n",
              "</div>\n",
              "      <button class=\"colab-df-convert\" onclick=\"convertToInteractive('df-d20607dd-39b9-4a1d-8418-371d00febeb9')\"\n",
              "              title=\"Convert this dataframe to an interactive table.\"\n",
              "              style=\"display:none;\">\n",
              "        \n",
              "  <svg xmlns=\"http://www.w3.org/2000/svg\" height=\"24px\"viewBox=\"0 0 24 24\"\n",
              "       width=\"24px\">\n",
              "    <path d=\"M0 0h24v24H0V0z\" fill=\"none\"/>\n",
              "    <path d=\"M18.56 5.44l.94 2.06.94-2.06 2.06-.94-2.06-.94-.94-2.06-.94 2.06-2.06.94zm-11 1L8.5 8.5l.94-2.06 2.06-.94-2.06-.94L8.5 2.5l-.94 2.06-2.06.94zm10 10l.94 2.06.94-2.06 2.06-.94-2.06-.94-.94-2.06-.94 2.06-2.06.94z\"/><path d=\"M17.41 7.96l-1.37-1.37c-.4-.4-.92-.59-1.43-.59-.52 0-1.04.2-1.43.59L10.3 9.45l-7.72 7.72c-.78.78-.78 2.05 0 2.83L4 21.41c.39.39.9.59 1.41.59.51 0 1.02-.2 1.41-.59l7.78-7.78 2.81-2.81c.8-.78.8-2.07 0-2.86zM5.41 20L4 18.59l7.72-7.72 1.47 1.35L5.41 20z\"/>\n",
              "  </svg>\n",
              "      </button>\n",
              "      \n",
              "  <style>\n",
              "    .colab-df-container {\n",
              "      display:flex;\n",
              "      flex-wrap:wrap;\n",
              "      gap: 12px;\n",
              "    }\n",
              "\n",
              "    .colab-df-convert {\n",
              "      background-color: #E8F0FE;\n",
              "      border: none;\n",
              "      border-radius: 50%;\n",
              "      cursor: pointer;\n",
              "      display: none;\n",
              "      fill: #1967D2;\n",
              "      height: 32px;\n",
              "      padding: 0 0 0 0;\n",
              "      width: 32px;\n",
              "    }\n",
              "\n",
              "    .colab-df-convert:hover {\n",
              "      background-color: #E2EBFA;\n",
              "      box-shadow: 0px 1px 2px rgba(60, 64, 67, 0.3), 0px 1px 3px 1px rgba(60, 64, 67, 0.15);\n",
              "      fill: #174EA6;\n",
              "    }\n",
              "\n",
              "    [theme=dark] .colab-df-convert {\n",
              "      background-color: #3B4455;\n",
              "      fill: #D2E3FC;\n",
              "    }\n",
              "\n",
              "    [theme=dark] .colab-df-convert:hover {\n",
              "      background-color: #434B5C;\n",
              "      box-shadow: 0px 1px 3px 1px rgba(0, 0, 0, 0.15);\n",
              "      filter: drop-shadow(0px 1px 2px rgba(0, 0, 0, 0.3));\n",
              "      fill: #FFFFFF;\n",
              "    }\n",
              "  </style>\n",
              "\n",
              "      <script>\n",
              "        const buttonEl =\n",
              "          document.querySelector('#df-d20607dd-39b9-4a1d-8418-371d00febeb9 button.colab-df-convert');\n",
              "        buttonEl.style.display =\n",
              "          google.colab.kernel.accessAllowed ? 'block' : 'none';\n",
              "\n",
              "        async function convertToInteractive(key) {\n",
              "          const element = document.querySelector('#df-d20607dd-39b9-4a1d-8418-371d00febeb9');\n",
              "          const dataTable =\n",
              "            await google.colab.kernel.invokeFunction('convertToInteractive',\n",
              "                                                     [key], {});\n",
              "          if (!dataTable) return;\n",
              "\n",
              "          const docLinkHtml = 'Like what you see? Visit the ' +\n",
              "            '<a target=\"_blank\" href=https://colab.research.google.com/notebooks/data_table.ipynb>data table notebook</a>'\n",
              "            + ' to learn more about interactive tables.';\n",
              "          element.innerHTML = '';\n",
              "          dataTable['output_type'] = 'display_data';\n",
              "          await google.colab.output.renderOutput(dataTable, element);\n",
              "          const docLink = document.createElement('div');\n",
              "          docLink.innerHTML = docLinkHtml;\n",
              "          element.appendChild(docLink);\n",
              "        }\n",
              "      </script>\n",
              "    </div>\n",
              "  </div>\n",
              "  "
            ]
          },
          "metadata": {},
          "execution_count": 7
        }
      ],
      "source": [
        "frames = [df_true,df_fake]\n",
        "df = pd.concat(frames)\n",
        "df"
      ]
    },
    {
      "cell_type": "code",
      "execution_count": null,
      "metadata": {
        "colab": {
          "base_uri": "https://localhost:8080/"
        },
        "id": "thbjid0YPqbu",
        "outputId": "de835ee9-23a3-48ca-a7e8-6e93c2b21ca1"
      },
      "outputs": [
        {
          "output_type": "execute_result",
          "data": {
            "text/plain": [
              "11128    0\n",
              "11494    1\n",
              "11097    1\n",
              "7492     1\n",
              "12524    0\n",
              "        ..\n",
              "16006    0\n",
              "6513     0\n",
              "10044    1\n",
              "12261    1\n",
              "16467    1\n",
              "Name: label, Length: 44867, dtype: int64"
            ]
          },
          "metadata": {},
          "execution_count": 8
        }
      ],
      "source": [
        "from sklearn.utils import shuffle\n",
        "df = shuffle(df)\n",
        "df['label']=df['label'].apply(lambda x: 1 if x=='fake' else 0)\n",
        "labels=df.label\n",
        "labels"
      ]
    },
    {
      "cell_type": "markdown",
      "metadata": {
        "id": "ekbJI1e0Pqbu"
      },
      "source": [
        "Cleaning data"
      ]
    },
    {
      "cell_type": "code",
      "execution_count": null,
      "metadata": {
        "colab": {
          "base_uri": "https://localhost:8080/"
        },
        "id": "u7E9JV7OPqbv",
        "outputId": "1987f894-c5f6-4c16-98f3-6f137bdb08cf"
      },
      "outputs": [
        {
          "output_type": "stream",
          "name": "stderr",
          "text": [
            "[nltk_data] Downloading package stopwords to /root/nltk_data...\n",
            "[nltk_data]   Unzipping corpora/stopwords.zip.\n",
            "[nltk_data] Downloading package wordnet to /root/nltk_data...\n"
          ]
        },
        {
          "output_type": "execute_result",
          "data": {
            "text/plain": [
              "True"
            ]
          },
          "metadata": {},
          "execution_count": 9
        }
      ],
      "source": [
        "import nltk\n",
        "nltk.download('stopwords')\n",
        "nltk.download('wordnet')"
      ]
    },
    {
      "cell_type": "code",
      "execution_count": null,
      "metadata": {
        "id": "tiAJbQTjPqbw"
      },
      "outputs": [],
      "source": [
        "column_n = ['title', 'text','subject','date','label']\n",
        "remove_c = ['subject']\n",
        "categorical_features = []\n",
        "target_col = ['label']\n",
        "text_f = ['title', 'text']\n",
        "\n",
        "# Clean Datasets\n",
        "import nltk\n",
        "from nltk.corpus import stopwords\n",
        "import re\n",
        "from nltk.stem.porter import PorterStemmer\n",
        "from collections import Counter\n",
        "\n",
        "ps = PorterStemmer()\n",
        "wnl = nltk.stem.WordNetLemmatizer()\n",
        "\n",
        "stop_words = stopwords.words('english')\n",
        "stopwords_dict = Counter(stop_words)\n",
        "\n",
        "\n",
        "# drop row with shirt text\n",
        "def null_process(feature_df):\n",
        "    for col in text_f:\n",
        "        if len(feature_df[col])<7:\n",
        "          feature_df = feature_df.drop(feature_df.index(col))\n",
        "    return feature_df\n",
        "\n",
        "def clean_dataset(df):\n",
        "    #impute null values\n",
        "    df = null_process(df)\n",
        "    return df\n",
        "    \n",
        "# Cleaning text from unused characters\n",
        "def clean_text(text):\n",
        "    text = str(text).replace(r'http[\\w:/\\.]+', ' ')  # removing urls\n",
        "    text = str(text).replace(r'[^\\.\\w\\s]', ' ')  # remove everything but characters and punctuation\n",
        "    text = str(text).replace('[^a-zA-Z]', ' ')\n",
        "    text = str(text).replace(r'\\s\\s+', ' ')\n",
        "    text = text.lower().strip()\n",
        "    return text\n",
        "\n",
        "\n",
        "def nltk_preprocess(text):\n",
        "    text = clean_text(text)\n",
        "    wordlist = re.sub(r'[^\\w\\s]', '', text).split()\n",
        "    text = ' '.join([word for word in wordlist if word not in stopwords_dict])\n",
        "    text = [ps.stem(word) for word in wordlist if not word in stopwords_dict]\n",
        "    text = ' '.join([wnl.lemmatize(word) for word in wordlist if word not in stopwords_dict])\n",
        "    return  text\n",
        "\n",
        "\n",
        "#https://www.thepythoncode.com/article/fake-news-classification-in-python"
      ]
    },
    {
      "cell_type": "code",
      "execution_count": null,
      "metadata": {
        "colab": {
          "base_uri": "https://localhost:8080/"
        },
        "id": "Br9vXesOEZ7z",
        "outputId": "c4e2928a-dff2-4ae1-85d0-ecdfddadbeaf"
      },
      "outputs": [
        {
          "output_type": "stream",
          "name": "stderr",
          "text": [
            "[nltk_data] Downloading package omw-1.4 to /root/nltk_data...\n"
          ]
        },
        {
          "output_type": "execute_result",
          "data": {
            "text/plain": [
              "True"
            ]
          },
          "metadata": {},
          "execution_count": 17
        }
      ],
      "source": [
        "nltk.download('omw-1.4')"
      ]
    },
    {
      "cell_type": "code",
      "execution_count": null,
      "metadata": {
        "id": "qilJwZfVPqbx"
      },
      "outputs": [],
      "source": [
        "df1 = df.copy()"
      ]
    },
    {
      "cell_type": "code",
      "source": [
        "df1['date']= df1['date'].astype('datetime64[ns]')\n",
        "df1"
      ],
      "metadata": {
        "colab": {
          "base_uri": "https://localhost:8080/",
          "height": 693
        },
        "id": "nGuQ0-pH7WCs",
        "outputId": "12745303-37d0-4982-d500-5d54007cb5c6"
      },
      "execution_count": null,
      "outputs": [
        {
          "output_type": "execute_result",
          "data": {
            "text/plain": [
              "                                                   title  \\\n",
              "11128                Poll: Trump in lead at 40.6 percent   \n",
              "11494  TEACHERS GIVE STUDENTS OUTRAGEOUS Religious Ed...   \n",
              "11097  Bette Midler Uses Cruz And Trump’s Own Insults...   \n",
              "7492   WATCH: KELLYANNE CONWAY Gives Dreaded Answer T...   \n",
              "12524  Leading French conservative quits party after ...   \n",
              "...                                                  ...   \n",
              "16006  Belgian prosecutors charge two over foiled att...   \n",
              "6513   Trump Organization says it has no plans to bui...   \n",
              "10044  WATCH HILARIOUSLY AWKWARD Moment Between Rick ...   \n",
              "12261  Secret Service Laptop Reportedly ‘Stolen’ had ...   \n",
              "16467  OBAMA’S NEW AND “IMPROVED” FBI Offers HUGE Rew...   \n",
              "\n",
              "                                                    text          subject  \\\n",
              "11128  DES MOINES (Reuters) - Republican front-runner...     politicsNews   \n",
              "11494  The indoctrination of our youth is happening a...        left-news   \n",
              "11097  Bette Midler has been busy sticking it to the ...             News   \n",
              "7492   ABC host George Stephanopoulos sat down with K...        left-news   \n",
              "12524  PARIS (Reuters) - Right-wing heavyweight Xavie...        worldnews   \n",
              "...                                                  ...              ...   \n",
              "16006  BRUSSELS (Reuters) - Belgian federal prosecuto...        worldnews   \n",
              "6513   BUENOS AIRES (Reuters) - The Trump Organizatio...     politicsNews   \n",
              "10044  Franken asked Perry if he enjoyed a meeting th...  Government News   \n",
              "12261  21st Century Wire says A laptop was reportedly...      Middle-east   \n",
              "16467  No evidence No worries Obama s got this one. M...         politics   \n",
              "\n",
              "            date  label  \n",
              "11128 2016-01-22      0  \n",
              "11494 2016-02-23      1  \n",
              "11097 2016-02-17      1  \n",
              "7492  2017-08-06      1  \n",
              "12524 2017-12-11      0  \n",
              "...          ...    ...  \n",
              "16006 2017-10-31      0  \n",
              "6513  2017-01-05      0  \n",
              "10044 2017-01-20      1  \n",
              "12261 2017-03-17      1  \n",
              "16467 2016-06-25      1  \n",
              "\n",
              "[44867 rows x 5 columns]"
            ],
            "text/html": [
              "\n",
              "  <div id=\"df-51d209e9-ea8a-4241-8c3e-b42fc8ba880d\">\n",
              "    <div class=\"colab-df-container\">\n",
              "      <div>\n",
              "<style scoped>\n",
              "    .dataframe tbody tr th:only-of-type {\n",
              "        vertical-align: middle;\n",
              "    }\n",
              "\n",
              "    .dataframe tbody tr th {\n",
              "        vertical-align: top;\n",
              "    }\n",
              "\n",
              "    .dataframe thead th {\n",
              "        text-align: right;\n",
              "    }\n",
              "</style>\n",
              "<table border=\"1\" class=\"dataframe\">\n",
              "  <thead>\n",
              "    <tr style=\"text-align: right;\">\n",
              "      <th></th>\n",
              "      <th>title</th>\n",
              "      <th>text</th>\n",
              "      <th>subject</th>\n",
              "      <th>date</th>\n",
              "      <th>label</th>\n",
              "    </tr>\n",
              "  </thead>\n",
              "  <tbody>\n",
              "    <tr>\n",
              "      <th>11128</th>\n",
              "      <td>Poll: Trump in lead at 40.6 percent</td>\n",
              "      <td>DES MOINES (Reuters) - Republican front-runner...</td>\n",
              "      <td>politicsNews</td>\n",
              "      <td>2016-01-22</td>\n",
              "      <td>0</td>\n",
              "    </tr>\n",
              "    <tr>\n",
              "      <th>11494</th>\n",
              "      <td>TEACHERS GIVE STUDENTS OUTRAGEOUS Religious Ed...</td>\n",
              "      <td>The indoctrination of our youth is happening a...</td>\n",
              "      <td>left-news</td>\n",
              "      <td>2016-02-23</td>\n",
              "      <td>1</td>\n",
              "    </tr>\n",
              "    <tr>\n",
              "      <th>11097</th>\n",
              "      <td>Bette Midler Uses Cruz And Trump’s Own Insults...</td>\n",
              "      <td>Bette Midler has been busy sticking it to the ...</td>\n",
              "      <td>News</td>\n",
              "      <td>2016-02-17</td>\n",
              "      <td>1</td>\n",
              "    </tr>\n",
              "    <tr>\n",
              "      <th>7492</th>\n",
              "      <td>WATCH: KELLYANNE CONWAY Gives Dreaded Answer T...</td>\n",
              "      <td>ABC host George Stephanopoulos sat down with K...</td>\n",
              "      <td>left-news</td>\n",
              "      <td>2017-08-06</td>\n",
              "      <td>1</td>\n",
              "    </tr>\n",
              "    <tr>\n",
              "      <th>12524</th>\n",
              "      <td>Leading French conservative quits party after ...</td>\n",
              "      <td>PARIS (Reuters) - Right-wing heavyweight Xavie...</td>\n",
              "      <td>worldnews</td>\n",
              "      <td>2017-12-11</td>\n",
              "      <td>0</td>\n",
              "    </tr>\n",
              "    <tr>\n",
              "      <th>...</th>\n",
              "      <td>...</td>\n",
              "      <td>...</td>\n",
              "      <td>...</td>\n",
              "      <td>...</td>\n",
              "      <td>...</td>\n",
              "    </tr>\n",
              "    <tr>\n",
              "      <th>16006</th>\n",
              "      <td>Belgian prosecutors charge two over foiled att...</td>\n",
              "      <td>BRUSSELS (Reuters) - Belgian federal prosecuto...</td>\n",
              "      <td>worldnews</td>\n",
              "      <td>2017-10-31</td>\n",
              "      <td>0</td>\n",
              "    </tr>\n",
              "    <tr>\n",
              "      <th>6513</th>\n",
              "      <td>Trump Organization says it has no plans to bui...</td>\n",
              "      <td>BUENOS AIRES (Reuters) - The Trump Organizatio...</td>\n",
              "      <td>politicsNews</td>\n",
              "      <td>2017-01-05</td>\n",
              "      <td>0</td>\n",
              "    </tr>\n",
              "    <tr>\n",
              "      <th>10044</th>\n",
              "      <td>WATCH HILARIOUSLY AWKWARD Moment Between Rick ...</td>\n",
              "      <td>Franken asked Perry if he enjoyed a meeting th...</td>\n",
              "      <td>Government News</td>\n",
              "      <td>2017-01-20</td>\n",
              "      <td>1</td>\n",
              "    </tr>\n",
              "    <tr>\n",
              "      <th>12261</th>\n",
              "      <td>Secret Service Laptop Reportedly ‘Stolen’ had ...</td>\n",
              "      <td>21st Century Wire says A laptop was reportedly...</td>\n",
              "      <td>Middle-east</td>\n",
              "      <td>2017-03-17</td>\n",
              "      <td>1</td>\n",
              "    </tr>\n",
              "    <tr>\n",
              "      <th>16467</th>\n",
              "      <td>OBAMA’S NEW AND “IMPROVED” FBI Offers HUGE Rew...</td>\n",
              "      <td>No evidence No worries Obama s got this one. M...</td>\n",
              "      <td>politics</td>\n",
              "      <td>2016-06-25</td>\n",
              "      <td>1</td>\n",
              "    </tr>\n",
              "  </tbody>\n",
              "</table>\n",
              "<p>44867 rows × 5 columns</p>\n",
              "</div>\n",
              "      <button class=\"colab-df-convert\" onclick=\"convertToInteractive('df-51d209e9-ea8a-4241-8c3e-b42fc8ba880d')\"\n",
              "              title=\"Convert this dataframe to an interactive table.\"\n",
              "              style=\"display:none;\">\n",
              "        \n",
              "  <svg xmlns=\"http://www.w3.org/2000/svg\" height=\"24px\"viewBox=\"0 0 24 24\"\n",
              "       width=\"24px\">\n",
              "    <path d=\"M0 0h24v24H0V0z\" fill=\"none\"/>\n",
              "    <path d=\"M18.56 5.44l.94 2.06.94-2.06 2.06-.94-2.06-.94-.94-2.06-.94 2.06-2.06.94zm-11 1L8.5 8.5l.94-2.06 2.06-.94-2.06-.94L8.5 2.5l-.94 2.06-2.06.94zm10 10l.94 2.06.94-2.06 2.06-.94-2.06-.94-.94-2.06-.94 2.06-2.06.94z\"/><path d=\"M17.41 7.96l-1.37-1.37c-.4-.4-.92-.59-1.43-.59-.52 0-1.04.2-1.43.59L10.3 9.45l-7.72 7.72c-.78.78-.78 2.05 0 2.83L4 21.41c.39.39.9.59 1.41.59.51 0 1.02-.2 1.41-.59l7.78-7.78 2.81-2.81c.8-.78.8-2.07 0-2.86zM5.41 20L4 18.59l7.72-7.72 1.47 1.35L5.41 20z\"/>\n",
              "  </svg>\n",
              "      </button>\n",
              "      \n",
              "  <style>\n",
              "    .colab-df-container {\n",
              "      display:flex;\n",
              "      flex-wrap:wrap;\n",
              "      gap: 12px;\n",
              "    }\n",
              "\n",
              "    .colab-df-convert {\n",
              "      background-color: #E8F0FE;\n",
              "      border: none;\n",
              "      border-radius: 50%;\n",
              "      cursor: pointer;\n",
              "      display: none;\n",
              "      fill: #1967D2;\n",
              "      height: 32px;\n",
              "      padding: 0 0 0 0;\n",
              "      width: 32px;\n",
              "    }\n",
              "\n",
              "    .colab-df-convert:hover {\n",
              "      background-color: #E2EBFA;\n",
              "      box-shadow: 0px 1px 2px rgba(60, 64, 67, 0.3), 0px 1px 3px 1px rgba(60, 64, 67, 0.15);\n",
              "      fill: #174EA6;\n",
              "    }\n",
              "\n",
              "    [theme=dark] .colab-df-convert {\n",
              "      background-color: #3B4455;\n",
              "      fill: #D2E3FC;\n",
              "    }\n",
              "\n",
              "    [theme=dark] .colab-df-convert:hover {\n",
              "      background-color: #434B5C;\n",
              "      box-shadow: 0px 1px 3px 1px rgba(0, 0, 0, 0.15);\n",
              "      filter: drop-shadow(0px 1px 2px rgba(0, 0, 0, 0.3));\n",
              "      fill: #FFFFFF;\n",
              "    }\n",
              "  </style>\n",
              "\n",
              "      <script>\n",
              "        const buttonEl =\n",
              "          document.querySelector('#df-51d209e9-ea8a-4241-8c3e-b42fc8ba880d button.colab-df-convert');\n",
              "        buttonEl.style.display =\n",
              "          google.colab.kernel.accessAllowed ? 'block' : 'none';\n",
              "\n",
              "        async function convertToInteractive(key) {\n",
              "          const element = document.querySelector('#df-51d209e9-ea8a-4241-8c3e-b42fc8ba880d');\n",
              "          const dataTable =\n",
              "            await google.colab.kernel.invokeFunction('convertToInteractive',\n",
              "                                                     [key], {});\n",
              "          if (!dataTable) return;\n",
              "\n",
              "          const docLinkHtml = 'Like what you see? Visit the ' +\n",
              "            '<a target=\"_blank\" href=https://colab.research.google.com/notebooks/data_table.ipynb>data table notebook</a>'\n",
              "            + ' to learn more about interactive tables.';\n",
              "          element.innerHTML = '';\n",
              "          dataTable['output_type'] = 'display_data';\n",
              "          await google.colab.output.renderOutput(dataTable, element);\n",
              "          const docLink = document.createElement('div');\n",
              "          docLink.innerHTML = docLinkHtml;\n",
              "          element.appendChild(docLink);\n",
              "        }\n",
              "      </script>\n",
              "    </div>\n",
              "  </div>\n",
              "  "
            ]
          },
          "metadata": {},
          "execution_count": 15
        }
      ]
    },
    {
      "cell_type": "code",
      "execution_count": null,
      "metadata": {
        "colab": {
          "base_uri": "https://localhost:8080/",
          "height": 641
        },
        "id": "ZaoxVsizPqbx",
        "outputId": "4d60e231-9f66-4466-d6de-679322c3c2f5"
      },
      "outputs": [
        {
          "output_type": "execute_result",
          "data": {
            "text/plain": [
              "                                                   title  \\\n",
              "11128                        poll trump lead 406 percent   \n",
              "11494  teacher give student outrageous religious ed a...   \n",
              "11097  bette midler us cruz trump insult deliciously ...   \n",
              "7492   watch kellyanne conway give dreaded answer lib...   \n",
              "12524  leading french conservative quits party right ...   \n",
              "...                                                  ...   \n",
              "16006  belgian prosecutor charge two foiled attack hi...   \n",
              "6513   trump organization say plan build buenos aire ...   \n",
              "10044  watch hilariously awkward moment rick perry al...   \n",
              "12261  secret service laptop reportedly stolen trump ...   \n",
              "16467  obamas new improved fbi offer huge reward anyo...   \n",
              "\n",
              "                                                    text          subject  \\\n",
              "11128  de moines reuters republican frontrunner candi...     politicsNews   \n",
              "11494  indoctrination youth happening every level alm...        left-news   \n",
              "11097  bette midler busy sticking gop clown car candi...             News   \n",
              "7492   abc host george stephanopoulos sat kellyanne c...        left-news   \n",
              "12524  paris reuters rightwing heavyweight xavier ber...        worldnews   \n",
              "...                                                  ...              ...   \n",
              "16006  brussels reuters belgian federal prosecutor sa...        worldnews   \n",
              "6513   buenos aire reuters trump organization plan bu...     politicsNews   \n",
              "10044  franken asked perry enjoyed meeting recently o...  Government News   \n",
              "12261  21st century wire say laptop reportedly stolen...      Middle-east   \n",
              "16467  evidence worry obama got one meanwhile democra...         politics   \n",
              "\n",
              "            date  label  \n",
              "11128 2016-01-22      0  \n",
              "11494 2016-02-23      1  \n",
              "11097 2016-02-17      1  \n",
              "7492  2017-08-06      1  \n",
              "12524 2017-12-11      0  \n",
              "...          ...    ...  \n",
              "16006 2017-10-31      0  \n",
              "6513  2017-01-05      0  \n",
              "10044 2017-01-20      1  \n",
              "12261 2017-03-17      1  \n",
              "16467 2016-06-25      1  \n",
              "\n",
              "[44867 rows x 5 columns]"
            ],
            "text/html": [
              "\n",
              "  <div id=\"df-657973af-2e5f-488c-9bee-c42651094d49\">\n",
              "    <div class=\"colab-df-container\">\n",
              "      <div>\n",
              "<style scoped>\n",
              "    .dataframe tbody tr th:only-of-type {\n",
              "        vertical-align: middle;\n",
              "    }\n",
              "\n",
              "    .dataframe tbody tr th {\n",
              "        vertical-align: top;\n",
              "    }\n",
              "\n",
              "    .dataframe thead th {\n",
              "        text-align: right;\n",
              "    }\n",
              "</style>\n",
              "<table border=\"1\" class=\"dataframe\">\n",
              "  <thead>\n",
              "    <tr style=\"text-align: right;\">\n",
              "      <th></th>\n",
              "      <th>title</th>\n",
              "      <th>text</th>\n",
              "      <th>subject</th>\n",
              "      <th>date</th>\n",
              "      <th>label</th>\n",
              "    </tr>\n",
              "  </thead>\n",
              "  <tbody>\n",
              "    <tr>\n",
              "      <th>11128</th>\n",
              "      <td>poll trump lead 406 percent</td>\n",
              "      <td>de moines reuters republican frontrunner candi...</td>\n",
              "      <td>politicsNews</td>\n",
              "      <td>2016-01-22</td>\n",
              "      <td>0</td>\n",
              "    </tr>\n",
              "    <tr>\n",
              "      <th>11494</th>\n",
              "      <td>teacher give student outrageous religious ed a...</td>\n",
              "      <td>indoctrination youth happening every level alm...</td>\n",
              "      <td>left-news</td>\n",
              "      <td>2016-02-23</td>\n",
              "      <td>1</td>\n",
              "    </tr>\n",
              "    <tr>\n",
              "      <th>11097</th>\n",
              "      <td>bette midler us cruz trump insult deliciously ...</td>\n",
              "      <td>bette midler busy sticking gop clown car candi...</td>\n",
              "      <td>News</td>\n",
              "      <td>2016-02-17</td>\n",
              "      <td>1</td>\n",
              "    </tr>\n",
              "    <tr>\n",
              "      <th>7492</th>\n",
              "      <td>watch kellyanne conway give dreaded answer lib...</td>\n",
              "      <td>abc host george stephanopoulos sat kellyanne c...</td>\n",
              "      <td>left-news</td>\n",
              "      <td>2017-08-06</td>\n",
              "      <td>1</td>\n",
              "    </tr>\n",
              "    <tr>\n",
              "      <th>12524</th>\n",
              "      <td>leading french conservative quits party right ...</td>\n",
              "      <td>paris reuters rightwing heavyweight xavier ber...</td>\n",
              "      <td>worldnews</td>\n",
              "      <td>2017-12-11</td>\n",
              "      <td>0</td>\n",
              "    </tr>\n",
              "    <tr>\n",
              "      <th>...</th>\n",
              "      <td>...</td>\n",
              "      <td>...</td>\n",
              "      <td>...</td>\n",
              "      <td>...</td>\n",
              "      <td>...</td>\n",
              "    </tr>\n",
              "    <tr>\n",
              "      <th>16006</th>\n",
              "      <td>belgian prosecutor charge two foiled attack hi...</td>\n",
              "      <td>brussels reuters belgian federal prosecutor sa...</td>\n",
              "      <td>worldnews</td>\n",
              "      <td>2017-10-31</td>\n",
              "      <td>0</td>\n",
              "    </tr>\n",
              "    <tr>\n",
              "      <th>6513</th>\n",
              "      <td>trump organization say plan build buenos aire ...</td>\n",
              "      <td>buenos aire reuters trump organization plan bu...</td>\n",
              "      <td>politicsNews</td>\n",
              "      <td>2017-01-05</td>\n",
              "      <td>0</td>\n",
              "    </tr>\n",
              "    <tr>\n",
              "      <th>10044</th>\n",
              "      <td>watch hilariously awkward moment rick perry al...</td>\n",
              "      <td>franken asked perry enjoyed meeting recently o...</td>\n",
              "      <td>Government News</td>\n",
              "      <td>2017-01-20</td>\n",
              "      <td>1</td>\n",
              "    </tr>\n",
              "    <tr>\n",
              "      <th>12261</th>\n",
              "      <td>secret service laptop reportedly stolen trump ...</td>\n",
              "      <td>21st century wire say laptop reportedly stolen...</td>\n",
              "      <td>Middle-east</td>\n",
              "      <td>2017-03-17</td>\n",
              "      <td>1</td>\n",
              "    </tr>\n",
              "    <tr>\n",
              "      <th>16467</th>\n",
              "      <td>obamas new improved fbi offer huge reward anyo...</td>\n",
              "      <td>evidence worry obama got one meanwhile democra...</td>\n",
              "      <td>politics</td>\n",
              "      <td>2016-06-25</td>\n",
              "      <td>1</td>\n",
              "    </tr>\n",
              "  </tbody>\n",
              "</table>\n",
              "<p>44867 rows × 5 columns</p>\n",
              "</div>\n",
              "      <button class=\"colab-df-convert\" onclick=\"convertToInteractive('df-657973af-2e5f-488c-9bee-c42651094d49')\"\n",
              "              title=\"Convert this dataframe to an interactive table.\"\n",
              "              style=\"display:none;\">\n",
              "        \n",
              "  <svg xmlns=\"http://www.w3.org/2000/svg\" height=\"24px\"viewBox=\"0 0 24 24\"\n",
              "       width=\"24px\">\n",
              "    <path d=\"M0 0h24v24H0V0z\" fill=\"none\"/>\n",
              "    <path d=\"M18.56 5.44l.94 2.06.94-2.06 2.06-.94-2.06-.94-.94-2.06-.94 2.06-2.06.94zm-11 1L8.5 8.5l.94-2.06 2.06-.94-2.06-.94L8.5 2.5l-.94 2.06-2.06.94zm10 10l.94 2.06.94-2.06 2.06-.94-2.06-.94-.94-2.06-.94 2.06-2.06.94z\"/><path d=\"M17.41 7.96l-1.37-1.37c-.4-.4-.92-.59-1.43-.59-.52 0-1.04.2-1.43.59L10.3 9.45l-7.72 7.72c-.78.78-.78 2.05 0 2.83L4 21.41c.39.39.9.59 1.41.59.51 0 1.02-.2 1.41-.59l7.78-7.78 2.81-2.81c.8-.78.8-2.07 0-2.86zM5.41 20L4 18.59l7.72-7.72 1.47 1.35L5.41 20z\"/>\n",
              "  </svg>\n",
              "      </button>\n",
              "      \n",
              "  <style>\n",
              "    .colab-df-container {\n",
              "      display:flex;\n",
              "      flex-wrap:wrap;\n",
              "      gap: 12px;\n",
              "    }\n",
              "\n",
              "    .colab-df-convert {\n",
              "      background-color: #E8F0FE;\n",
              "      border: none;\n",
              "      border-radius: 50%;\n",
              "      cursor: pointer;\n",
              "      display: none;\n",
              "      fill: #1967D2;\n",
              "      height: 32px;\n",
              "      padding: 0 0 0 0;\n",
              "      width: 32px;\n",
              "    }\n",
              "\n",
              "    .colab-df-convert:hover {\n",
              "      background-color: #E2EBFA;\n",
              "      box-shadow: 0px 1px 2px rgba(60, 64, 67, 0.3), 0px 1px 3px 1px rgba(60, 64, 67, 0.15);\n",
              "      fill: #174EA6;\n",
              "    }\n",
              "\n",
              "    [theme=dark] .colab-df-convert {\n",
              "      background-color: #3B4455;\n",
              "      fill: #D2E3FC;\n",
              "    }\n",
              "\n",
              "    [theme=dark] .colab-df-convert:hover {\n",
              "      background-color: #434B5C;\n",
              "      box-shadow: 0px 1px 3px 1px rgba(0, 0, 0, 0.15);\n",
              "      filter: drop-shadow(0px 1px 2px rgba(0, 0, 0, 0.3));\n",
              "      fill: #FFFFFF;\n",
              "    }\n",
              "  </style>\n",
              "\n",
              "      <script>\n",
              "        const buttonEl =\n",
              "          document.querySelector('#df-657973af-2e5f-488c-9bee-c42651094d49 button.colab-df-convert');\n",
              "        buttonEl.style.display =\n",
              "          google.colab.kernel.accessAllowed ? 'block' : 'none';\n",
              "\n",
              "        async function convertToInteractive(key) {\n",
              "          const element = document.querySelector('#df-657973af-2e5f-488c-9bee-c42651094d49');\n",
              "          const dataTable =\n",
              "            await google.colab.kernel.invokeFunction('convertToInteractive',\n",
              "                                                     [key], {});\n",
              "          if (!dataTable) return;\n",
              "\n",
              "          const docLinkHtml = 'Like what you see? Visit the ' +\n",
              "            '<a target=\"_blank\" href=https://colab.research.google.com/notebooks/data_table.ipynb>data table notebook</a>'\n",
              "            + ' to learn more about interactive tables.';\n",
              "          element.innerHTML = '';\n",
              "          dataTable['output_type'] = 'display_data';\n",
              "          await google.colab.output.renderOutput(dataTable, element);\n",
              "          const docLink = document.createElement('div');\n",
              "          docLink.innerHTML = docLinkHtml;\n",
              "          element.appendChild(docLink);\n",
              "        }\n",
              "      </script>\n",
              "    </div>\n",
              "  </div>\n",
              "  "
            ]
          },
          "metadata": {},
          "execution_count": 18
        }
      ],
      "source": [
        "clean_dataset(df1)\n",
        "# apply preprocessing on text through apply method by calling the function nltk_preprocess\n",
        "df1[\"text\"] = df1.text.apply(clean_text)\n",
        "df1[\"text\"] = df1.text.apply(nltk_preprocess)\n",
        "# apply preprocessing on title through apply method by calling the function nltk_preprocess\n",
        "df1[\"title\"] = df1.title.apply(clean_text)\n",
        "df1[\"title\"] = df1.title.apply(nltk_preprocess)\n",
        "df1"
      ]
    },
    {
      "cell_type": "code",
      "execution_count": null,
      "metadata": {
        "id": "EwKyqjYD1ngP"
      },
      "outputs": [],
      "source": [
        "df1.to_csv('/content/drive/MyDrive/ColabNotebooks/news/clean_data.csv',sep='\\t')"
      ]
    },
    {
      "cell_type": "code",
      "source": [
        "df_clean=pd.read_csv('/content/drive/MyDrive/ColabNotebooks/news/clean_data.csv', sep='\\t')\n",
        "df_clean"
      ],
      "metadata": {
        "colab": {
          "base_uri": "https://localhost:8080/",
          "height": 832
        },
        "id": "zhVNbefAPiF3",
        "outputId": "3dbda3f3-8ca5-4e92-86a4-67ee6bcf9883"
      },
      "execution_count": null,
      "outputs": [
        {
          "output_type": "execute_result",
          "data": {
            "text/plain": [
              "       Unnamed: 0                                              title  \\\n",
              "0           11128                        poll trump lead 406 percent   \n",
              "1           11494  teacher give student outrageous religious ed a...   \n",
              "2           11097  bette midler us cruz trump insult deliciously ...   \n",
              "3            7492  watch kellyanne conway give dreaded answer lib...   \n",
              "4           12524  leading french conservative quits party right ...   \n",
              "...           ...                                                ...   \n",
              "44862       16006  belgian prosecutor charge two foiled attack hi...   \n",
              "44863        6513  trump organization say plan build buenos aire ...   \n",
              "44864       10044  watch hilariously awkward moment rick perry al...   \n",
              "44865       12261  secret service laptop reportedly stolen trump ...   \n",
              "44866       16467  obamas new improved fbi offer huge reward anyo...   \n",
              "\n",
              "                                                    text          subject  \\\n",
              "0      de moines reuters republican frontrunner candi...     politicsNews   \n",
              "1      indoctrination youth happening every level alm...        left-news   \n",
              "2      bette midler busy sticking gop clown car candi...             News   \n",
              "3      abc host george stephanopoulos sat kellyanne c...        left-news   \n",
              "4      paris reuters rightwing heavyweight xavier ber...        worldnews   \n",
              "...                                                  ...              ...   \n",
              "44862  brussels reuters belgian federal prosecutor sa...        worldnews   \n",
              "44863  buenos aire reuters trump organization plan bu...     politicsNews   \n",
              "44864  franken asked perry enjoyed meeting recently o...  Government News   \n",
              "44865  21st century wire say laptop reportedly stolen...      Middle-east   \n",
              "44866  evidence worry obama got one meanwhile democra...         politics   \n",
              "\n",
              "             date  label  \n",
              "0      2016-01-22      0  \n",
              "1      2016-02-23      1  \n",
              "2      2016-02-17      1  \n",
              "3      2017-08-06      1  \n",
              "4      2017-12-11      0  \n",
              "...           ...    ...  \n",
              "44862  2017-10-31      0  \n",
              "44863  2017-01-05      0  \n",
              "44864  2017-01-20      1  \n",
              "44865  2017-03-17      1  \n",
              "44866  2016-06-25      1  \n",
              "\n",
              "[44867 rows x 6 columns]"
            ],
            "text/html": [
              "\n",
              "  <div id=\"df-734cc7d4-efaa-4afa-861f-06db52a7e72a\">\n",
              "    <div class=\"colab-df-container\">\n",
              "      <div>\n",
              "<style scoped>\n",
              "    .dataframe tbody tr th:only-of-type {\n",
              "        vertical-align: middle;\n",
              "    }\n",
              "\n",
              "    .dataframe tbody tr th {\n",
              "        vertical-align: top;\n",
              "    }\n",
              "\n",
              "    .dataframe thead th {\n",
              "        text-align: right;\n",
              "    }\n",
              "</style>\n",
              "<table border=\"1\" class=\"dataframe\">\n",
              "  <thead>\n",
              "    <tr style=\"text-align: right;\">\n",
              "      <th></th>\n",
              "      <th>Unnamed: 0</th>\n",
              "      <th>title</th>\n",
              "      <th>text</th>\n",
              "      <th>subject</th>\n",
              "      <th>date</th>\n",
              "      <th>label</th>\n",
              "    </tr>\n",
              "  </thead>\n",
              "  <tbody>\n",
              "    <tr>\n",
              "      <th>0</th>\n",
              "      <td>11128</td>\n",
              "      <td>poll trump lead 406 percent</td>\n",
              "      <td>de moines reuters republican frontrunner candi...</td>\n",
              "      <td>politicsNews</td>\n",
              "      <td>2016-01-22</td>\n",
              "      <td>0</td>\n",
              "    </tr>\n",
              "    <tr>\n",
              "      <th>1</th>\n",
              "      <td>11494</td>\n",
              "      <td>teacher give student outrageous religious ed a...</td>\n",
              "      <td>indoctrination youth happening every level alm...</td>\n",
              "      <td>left-news</td>\n",
              "      <td>2016-02-23</td>\n",
              "      <td>1</td>\n",
              "    </tr>\n",
              "    <tr>\n",
              "      <th>2</th>\n",
              "      <td>11097</td>\n",
              "      <td>bette midler us cruz trump insult deliciously ...</td>\n",
              "      <td>bette midler busy sticking gop clown car candi...</td>\n",
              "      <td>News</td>\n",
              "      <td>2016-02-17</td>\n",
              "      <td>1</td>\n",
              "    </tr>\n",
              "    <tr>\n",
              "      <th>3</th>\n",
              "      <td>7492</td>\n",
              "      <td>watch kellyanne conway give dreaded answer lib...</td>\n",
              "      <td>abc host george stephanopoulos sat kellyanne c...</td>\n",
              "      <td>left-news</td>\n",
              "      <td>2017-08-06</td>\n",
              "      <td>1</td>\n",
              "    </tr>\n",
              "    <tr>\n",
              "      <th>4</th>\n",
              "      <td>12524</td>\n",
              "      <td>leading french conservative quits party right ...</td>\n",
              "      <td>paris reuters rightwing heavyweight xavier ber...</td>\n",
              "      <td>worldnews</td>\n",
              "      <td>2017-12-11</td>\n",
              "      <td>0</td>\n",
              "    </tr>\n",
              "    <tr>\n",
              "      <th>...</th>\n",
              "      <td>...</td>\n",
              "      <td>...</td>\n",
              "      <td>...</td>\n",
              "      <td>...</td>\n",
              "      <td>...</td>\n",
              "      <td>...</td>\n",
              "    </tr>\n",
              "    <tr>\n",
              "      <th>44862</th>\n",
              "      <td>16006</td>\n",
              "      <td>belgian prosecutor charge two foiled attack hi...</td>\n",
              "      <td>brussels reuters belgian federal prosecutor sa...</td>\n",
              "      <td>worldnews</td>\n",
              "      <td>2017-10-31</td>\n",
              "      <td>0</td>\n",
              "    </tr>\n",
              "    <tr>\n",
              "      <th>44863</th>\n",
              "      <td>6513</td>\n",
              "      <td>trump organization say plan build buenos aire ...</td>\n",
              "      <td>buenos aire reuters trump organization plan bu...</td>\n",
              "      <td>politicsNews</td>\n",
              "      <td>2017-01-05</td>\n",
              "      <td>0</td>\n",
              "    </tr>\n",
              "    <tr>\n",
              "      <th>44864</th>\n",
              "      <td>10044</td>\n",
              "      <td>watch hilariously awkward moment rick perry al...</td>\n",
              "      <td>franken asked perry enjoyed meeting recently o...</td>\n",
              "      <td>Government News</td>\n",
              "      <td>2017-01-20</td>\n",
              "      <td>1</td>\n",
              "    </tr>\n",
              "    <tr>\n",
              "      <th>44865</th>\n",
              "      <td>12261</td>\n",
              "      <td>secret service laptop reportedly stolen trump ...</td>\n",
              "      <td>21st century wire say laptop reportedly stolen...</td>\n",
              "      <td>Middle-east</td>\n",
              "      <td>2017-03-17</td>\n",
              "      <td>1</td>\n",
              "    </tr>\n",
              "    <tr>\n",
              "      <th>44866</th>\n",
              "      <td>16467</td>\n",
              "      <td>obamas new improved fbi offer huge reward anyo...</td>\n",
              "      <td>evidence worry obama got one meanwhile democra...</td>\n",
              "      <td>politics</td>\n",
              "      <td>2016-06-25</td>\n",
              "      <td>1</td>\n",
              "    </tr>\n",
              "  </tbody>\n",
              "</table>\n",
              "<p>44867 rows × 6 columns</p>\n",
              "</div>\n",
              "      <button class=\"colab-df-convert\" onclick=\"convertToInteractive('df-734cc7d4-efaa-4afa-861f-06db52a7e72a')\"\n",
              "              title=\"Convert this dataframe to an interactive table.\"\n",
              "              style=\"display:none;\">\n",
              "        \n",
              "  <svg xmlns=\"http://www.w3.org/2000/svg\" height=\"24px\"viewBox=\"0 0 24 24\"\n",
              "       width=\"24px\">\n",
              "    <path d=\"M0 0h24v24H0V0z\" fill=\"none\"/>\n",
              "    <path d=\"M18.56 5.44l.94 2.06.94-2.06 2.06-.94-2.06-.94-.94-2.06-.94 2.06-2.06.94zm-11 1L8.5 8.5l.94-2.06 2.06-.94-2.06-.94L8.5 2.5l-.94 2.06-2.06.94zm10 10l.94 2.06.94-2.06 2.06-.94-2.06-.94-.94-2.06-.94 2.06-2.06.94z\"/><path d=\"M17.41 7.96l-1.37-1.37c-.4-.4-.92-.59-1.43-.59-.52 0-1.04.2-1.43.59L10.3 9.45l-7.72 7.72c-.78.78-.78 2.05 0 2.83L4 21.41c.39.39.9.59 1.41.59.51 0 1.02-.2 1.41-.59l7.78-7.78 2.81-2.81c.8-.78.8-2.07 0-2.86zM5.41 20L4 18.59l7.72-7.72 1.47 1.35L5.41 20z\"/>\n",
              "  </svg>\n",
              "      </button>\n",
              "      \n",
              "  <style>\n",
              "    .colab-df-container {\n",
              "      display:flex;\n",
              "      flex-wrap:wrap;\n",
              "      gap: 12px;\n",
              "    }\n",
              "\n",
              "    .colab-df-convert {\n",
              "      background-color: #E8F0FE;\n",
              "      border: none;\n",
              "      border-radius: 50%;\n",
              "      cursor: pointer;\n",
              "      display: none;\n",
              "      fill: #1967D2;\n",
              "      height: 32px;\n",
              "      padding: 0 0 0 0;\n",
              "      width: 32px;\n",
              "    }\n",
              "\n",
              "    .colab-df-convert:hover {\n",
              "      background-color: #E2EBFA;\n",
              "      box-shadow: 0px 1px 2px rgba(60, 64, 67, 0.3), 0px 1px 3px 1px rgba(60, 64, 67, 0.15);\n",
              "      fill: #174EA6;\n",
              "    }\n",
              "\n",
              "    [theme=dark] .colab-df-convert {\n",
              "      background-color: #3B4455;\n",
              "      fill: #D2E3FC;\n",
              "    }\n",
              "\n",
              "    [theme=dark] .colab-df-convert:hover {\n",
              "      background-color: #434B5C;\n",
              "      box-shadow: 0px 1px 3px 1px rgba(0, 0, 0, 0.15);\n",
              "      filter: drop-shadow(0px 1px 2px rgba(0, 0, 0, 0.3));\n",
              "      fill: #FFFFFF;\n",
              "    }\n",
              "  </style>\n",
              "\n",
              "      <script>\n",
              "        const buttonEl =\n",
              "          document.querySelector('#df-734cc7d4-efaa-4afa-861f-06db52a7e72a button.colab-df-convert');\n",
              "        buttonEl.style.display =\n",
              "          google.colab.kernel.accessAllowed ? 'block' : 'none';\n",
              "\n",
              "        async function convertToInteractive(key) {\n",
              "          const element = document.querySelector('#df-734cc7d4-efaa-4afa-861f-06db52a7e72a');\n",
              "          const dataTable =\n",
              "            await google.colab.kernel.invokeFunction('convertToInteractive',\n",
              "                                                     [key], {});\n",
              "          if (!dataTable) return;\n",
              "\n",
              "          const docLinkHtml = 'Like what you see? Visit the ' +\n",
              "            '<a target=\"_blank\" href=https://colab.research.google.com/notebooks/data_table.ipynb>data table notebook</a>'\n",
              "            + ' to learn more about interactive tables.';\n",
              "          element.innerHTML = '';\n",
              "          dataTable['output_type'] = 'display_data';\n",
              "          await google.colab.output.renderOutput(dataTable, element);\n",
              "          const docLink = document.createElement('div');\n",
              "          docLink.innerHTML = docLinkHtml;\n",
              "          element.appendChild(docLink);\n",
              "        }\n",
              "      </script>\n",
              "    </div>\n",
              "  </div>\n",
              "  "
            ]
          },
          "metadata": {},
          "execution_count": 20
        }
      ]
    },
    {
      "cell_type": "markdown",
      "metadata": {
        "id": "WnySKKEUPqby"
      },
      "source": [
        "Training model"
      ]
    },
    {
      "cell_type": "code",
      "source": [
        "df_clean[\"label\"].value_counts()"
      ],
      "metadata": {
        "colab": {
          "base_uri": "https://localhost:8080/"
        },
        "id": "0cnVnrweU4yF",
        "outputId": "2a5c7ffb-bbe0-4bbb-e723-3c832961da24"
      },
      "execution_count": null,
      "outputs": [
        {
          "output_type": "execute_result",
          "data": {
            "text/plain": [
              "1    23450\n",
              "0    21417\n",
              "Name: label, dtype: int64"
            ]
          },
          "metadata": {},
          "execution_count": 21
        }
      ]
    },
    {
      "cell_type": "code",
      "source": [
        "df_clean.dtypes"
      ],
      "metadata": {
        "colab": {
          "base_uri": "https://localhost:8080/"
        },
        "id": "7VktnN0GHnRu",
        "outputId": "54bb4416-721f-40e2-a388-938a71a903f9"
      },
      "execution_count": null,
      "outputs": [
        {
          "output_type": "execute_result",
          "data": {
            "text/plain": [
              "Unnamed: 0     int64\n",
              "title         object\n",
              "text          object\n",
              "subject       object\n",
              "date          object\n",
              "label          int64\n",
              "dtype: object"
            ]
          },
          "metadata": {},
          "execution_count": 22
        }
      ]
    },
    {
      "cell_type": "code",
      "execution_count": null,
      "metadata": {
        "id": "3WirJhuaPqby"
      },
      "outputs": [],
      "source": [
        "#Split the dataset\n",
        "#test_size=0.2, random_state=7, stratify=df_clean['label']\n",
        "x_train,x_test,y_train,y_test=train_test_split(df_clean['title'], df_clean['label'],test_size=0.9, random_state=7 )"
      ]
    },
    {
      "cell_type": "code",
      "execution_count": null,
      "metadata": {
        "id": "z91JCyl_LAIB"
      },
      "outputs": [],
      "source": [
        "preprocess_url = \"https://tfhub.dev/tensorflow/bert_en_uncased_preprocess/3\"\n",
        "encoder_url = \"https://tfhub.dev/tensorflow/bert_en_uncased_L-12_H-768_A-12/4\""
      ]
    },
    {
      "cell_type": "code",
      "source": [
        "bert_preprocess = hub.KerasLayer(preprocess_url)\n",
        "bert_encoder = hub.KerasLayer(encoder_url)"
      ],
      "metadata": {
        "colab": {
          "base_uri": "https://localhost:8080/"
        },
        "id": "Ph4TH_HAhDn-",
        "outputId": "e63acd22-0d97-4936-f52a-4fe94523a376"
      },
      "execution_count": null,
      "outputs": [
        {
          "output_type": "stream",
          "name": "stderr",
          "text": [
            "WARNING:tensorflow:Please fix your imports. Module tensorflow.python.training.tracking.data_structures has been moved to tensorflow.python.trackable.data_structures. The old module will be deleted in version 2.11.\n"
          ]
        }
      ]
    },
    {
      "cell_type": "code",
      "source": [
        "def get_sentence_embeding(sentences):\n",
        "    preprocessed_text = bert_preprocess(sentences)\n",
        "    return bert_encoder(preprocessed_text)['pooled_output']\n",
        "\n",
        "e = get_sentence_embeding([\n",
        "    \"TRUMP ARRIVES IN MOBILE, ALABAMA TO SAY THANKS\", \n",
        "    \"Trump says Russia probe will be fair, but timeline unclear: NYT\",\n",
        "    \"Virginia officials postpone lottery drawing to decide tied statehouse election\",\n",
        "    \"Trump on Twitter (Dec 26) - Hillary Clinton, Tax Cut Bill\"]\n",
        ")"
      ],
      "metadata": {
        "id": "nYfV2iCYiHvi"
      },
      "execution_count": null,
      "outputs": []
    },
    {
      "cell_type": "code",
      "source": [
        "from sklearn.metrics.pairwise import cosine_similarity\n",
        "cosine_similarity([e[1]],[e[3]])"
      ],
      "metadata": {
        "colab": {
          "base_uri": "https://localhost:8080/"
        },
        "id": "ByGaQIirkIM_",
        "outputId": "a1628124-32cc-4c12-ed60-e35c2d1bd2bd"
      },
      "execution_count": null,
      "outputs": [
        {
          "output_type": "execute_result",
          "data": {
            "text/plain": [
              "array([[0.9665755]], dtype=float32)"
            ]
          },
          "metadata": {},
          "execution_count": 135
        }
      ]
    },
    {
      "cell_type": "code",
      "source": [
        "# Bert layers\n",
        "text_input = tf.keras.layers.Input(shape=(), dtype=tf.string, name='title')\n",
        "preprocessed_text = bert_preprocess(text_input)\n",
        "outputs = bert_encoder(preprocessed_text)\n",
        "\n",
        "# Neural network layers\n",
        "l = tf.keras.layers.Dropout(0.1, name=\"dropout\")(outputs['pooled_output'])\n",
        "l = tf.keras.layers.Dense(1, activation='sigmoid', name=\"output\")(l)\n",
        "\n",
        "# Use inputs and outputs to construct a final model\n",
        "model = tf.keras.Model(inputs=[text_input], outputs = [l])"
      ],
      "metadata": {
        "id": "tQuHWJ1-ljIy",
        "colab": {
          "base_uri": "https://localhost:8080/"
        },
        "outputId": "4acf99dd-fe61-4f28-8129-c175c86d6c23"
      },
      "execution_count": null,
      "outputs": [
        {
          "output_type": "stream",
          "name": "stderr",
          "text": [
            "WARNING:tensorflow:From /usr/local/lib/python3.8/dist-packages/tensorflow/python/autograph/pyct/static_analysis/liveness.py:83: Analyzer.lamba_check (from tensorflow.python.autograph.pyct.static_analysis.liveness) is deprecated and will be removed after 2023-09-23.\n",
            "Instructions for updating:\n",
            "Lambda fuctions will be no more assumed to be used in the statement where they are used, or at least in the same block. https://github.com/tensorflow/tensorflow/issues/56089\n"
          ]
        }
      ]
    },
    {
      "cell_type": "code",
      "source": [
        "METRICS = [\n",
        "      tf.keras.metrics.BinaryAccuracy(name='accuracy'),\n",
        "      tf.keras.metrics.Precision(name='precision'),\n",
        "      tf.keras.metrics.Recall(name='recall')\n",
        "]\n",
        "\n",
        "model.compile(optimizer='adam',\n",
        "              loss='binary_crossentropy',\n",
        "              metrics=METRICS)"
      ],
      "metadata": {
        "id": "PwrRrpymnG0C"
      },
      "execution_count": null,
      "outputs": []
    },
    {
      "cell_type": "code",
      "source": [
        "model.fit(x_train, y_train, epochs=10)"
      ],
      "metadata": {
        "colab": {
          "base_uri": "https://localhost:8080/"
        },
        "id": "yM7O8GDrnaJe",
        "outputId": "49fc8ce2-ffac-412e-ec16-22b8434259f4"
      },
      "execution_count": null,
      "outputs": [
        {
          "metadata": {
            "tags": null
          },
          "name": "stdout",
          "output_type": "stream",
          "text": [
            "Epoch 1/10\n",
            "  2/141 [..............................] - ETA: 31:54 - loss: 0.7331 - accuracy: 0.5156 - precision: 0.4571 - recall: 0.5714"
          ]
        }
      ]
    },
    {
      "cell_type": "code",
      "source": [
        "model.evaluate(x_test, y_test)"
      ],
      "metadata": {
        "colab": {
          "base_uri": "https://localhost:8080/"
        },
        "id": "bYraxkgvoYk7",
        "outputId": "45762e1d-e306-4eb5-a0af-c46c43a58a2a"
      },
      "execution_count": null,
      "outputs": [
        {
          "output_type": "stream",
          "name": "stdout",
          "text": [
            "1376/1376 [==============================] - 445s 323ms/step - loss: 0.4778 - accuracy: 0.8263 - precision: 0.8545 - recall: 0.8048\n"
          ]
        },
        {
          "output_type": "execute_result",
          "data": {
            "text/plain": [
              "[0.4777644872665405,\n",
              " 0.8262766599655151,\n",
              " 0.8545194268226624,\n",
              " 0.8048324584960938]"
            ]
          },
          "metadata": {},
          "execution_count": 18
        }
      ]
    },
    {
      "cell_type": "code",
      "source": [
        "y_pred = model.predict(x_test)\n",
        "y_pred = y_pred.flatten()"
      ],
      "metadata": {
        "colab": {
          "base_uri": "https://localhost:8080/"
        },
        "id": "8C_lnpoxod6z",
        "outputId": "f23b6029-7f41-4ecf-f824-3522ff6f5230"
      },
      "execution_count": null,
      "outputs": [
        {
          "output_type": "stream",
          "name": "stdout",
          "text": [
            "1376/1376 [==============================] - 445s 323ms/step\n"
          ]
        }
      ]
    },
    {
      "cell_type": "code",
      "source": [
        "y_pred = np.where(y_pred > 0.5, 1, 0)"
      ],
      "metadata": {
        "id": "_yozky0SqhUN"
      },
      "execution_count": null,
      "outputs": []
    },
    {
      "cell_type": "markdown",
      "metadata": {
        "id": "kWDZ7nabPqby"
      },
      "source": [
        "Accuracy"
      ]
    },
    {
      "cell_type": "code",
      "execution_count": null,
      "metadata": {
        "id": "OTjwgorsPqbz"
      },
      "outputs": [],
      "source": [
        "#DataFlair - Initialize a PassiveAggressiveClassifier\n",
        "pac=PassiveAggressiveClassifier(max_iter=50)\n",
        "pac.fit(x_train,y_train)\n",
        "#DataFlair - Predict on the test set and calculate accuracy\n",
        "y_pred=pac.predict(x_test)\n",
        "score=accuracy_score(y_test,y_pred)\n",
        "print(f'Accuracy: {round(score*100,2)}%')"
      ]
    },
    {
      "cell_type": "markdown",
      "metadata": {
        "id": "lWpBdKXvPqbz"
      },
      "source": [
        "Confusion matrix"
      ]
    },
    {
      "cell_type": "code",
      "execution_count": null,
      "metadata": {
        "id": "G7nFECIHPqbz",
        "colab": {
          "base_uri": "https://localhost:8080/"
        },
        "outputId": "f4c66201-c655-43be-e6d0-659a023aee7f"
      },
      "outputs": [
        {
          "output_type": "execute_result",
          "data": {
            "text/plain": [
              "array([[17837,  3153],\n",
              "       [ 4491, 18520]])"
            ]
          },
          "metadata": {},
          "execution_count": 24
        }
      ],
      "source": [
        "from sklearn.metrics import confusion_matrix, classification_report\n",
        "\n",
        "#Build confusion matrix\n",
        "cm = confusion_matrix(y_test,y_pred)\n",
        "cm"
      ]
    },
    {
      "cell_type": "code",
      "source": [
        "from matplotlib import pyplot as plt\n",
        "import seaborn as sn\n",
        "sn.heatmap(cm, annot=True, fmt='d')\n",
        "plt.xlabel('Predicted')\n",
        "plt.ylabel('Truth')"
      ],
      "metadata": {
        "colab": {
          "base_uri": "https://localhost:8080/",
          "height": 296
        },
        "id": "gyZfUvfKqMH3",
        "outputId": "9e66f0fc-8d62-4932-cc4b-3e339401ec3a"
      },
      "execution_count": null,
      "outputs": [
        {
          "output_type": "execute_result",
          "data": {
            "text/plain": [
              "Text(33.0, 0.5, 'Truth')"
            ]
          },
          "metadata": {},
          "execution_count": 25
        },
        {
          "output_type": "display_data",
          "data": {
            "text/plain": [
              "<Figure size 432x288 with 2 Axes>"
            ],
            "image/png": "[encoded data removed]"
          },
          "metadata": {
            "needs_background": "light"
          }
        }
      ]
    },
    {
      "cell_type": "code",
      "source": [
        "print(classification_report(y_test, y_pred))"
      ],
      "metadata": {
        "colab": {
          "base_uri": "https://localhost:8080/"
        },
        "id": "3W2QWYZ2qv50",
        "outputId": "be939caf-5df4-4269-f551-814fcf6eea41"
      },
      "execution_count": null,
      "outputs": [
        {
          "output_type": "stream",
          "name": "stdout",
          "text": [
            "              precision    recall  f1-score   support\n",
            "\n",
            "           0       0.80      0.85      0.82     20990\n",
            "           1       0.85      0.80      0.83     23011\n",
            "\n",
            "    accuracy                           0.83     44001\n",
            "   macro avg       0.83      0.83      0.83     44001\n",
            "weighted avg       0.83      0.83      0.83     44001\n",
            "\n"
          ]
        }
      ]
    },
    {
      "cell_type": "markdown",
      "source": [
        "Inference"
      ],
      "metadata": {
        "id": "2n68dhLIq41R"
      }
    },
    {
      "cell_type": "code",
      "source": [
        "reviews = [\n",
        "    \"TRUMP ARRIVES IN MOBILE, ALABAMA TO SAY THANKS\", \n",
        "    \"Trump says Russia probe will be fair, but timeline unclear: NYT\",\n",
        "    \"Virginia officials postpone lottery drawing to decide tied statehouse election\",\n",
        "    \"Trump on Twitter (Dec 26) - Hillary Clinton, Tax Cut Bill\"]\n",
        "model.predict(reviews)"
      ],
      "metadata": {
        "colab": {
          "base_uri": "https://localhost:8080/"
        },
        "id": "hP0XDDHzq2QO",
        "outputId": "77422544-08dd-4afa-8ea2-1bb176806505"
      },
      "execution_count": null,
      "outputs": [
        {
          "output_type": "stream",
          "name": "stdout",
          "text": [
            "1/1 [==============================] - 1s 743ms/step\n"
          ]
        },
        {
          "output_type": "execute_result",
          "data": {
            "text/plain": [
              "array([[0.5906631 ],\n",
              "       [0.49927577],\n",
              "       [0.08880474],\n",
              "       [0.7777535 ]], dtype=float32)"
            ]
          },
          "metadata": {},
          "execution_count": 27
        }
      ]
    }
  ],
  "metadata": {
    "colab": {
      "provenance": [],
      "include_colab_link": true
    },
    "kernelspec": {
      "display_name": "Python 3.10.6 64-bit",
      "language": "python",
      "name": "python3"
    },
    "language_info": {
      "codemirror_mode": {
        "name": "ipython",
        "version": 3
      },
      "file_extension": ".py",
      "mimetype": "text/x-python",
      "name": "python",
      "nbconvert_exporter": "python",
      "pygments_lexer": "ipython3",
      "version": "3.10.6"
    },
    "vscode": {
      "interpreter": {
        "hash": "bcd1966ecafd005058129ee1d83b4085d08b7510d1b4ae05678e3ce2dc9ec567"
      }
    },
    "accelerator": "TPU",
    "gpuClass": "standard"
  },
  "nbformat": 4,
  "nbformat_minor": 0
}